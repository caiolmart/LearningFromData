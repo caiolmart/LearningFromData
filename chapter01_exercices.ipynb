{
 "cells": [
  {
   "cell_type": "markdown",
   "metadata": {},
   "source": [
    "# Chapter 1"
   ]
  },
  {
   "cell_type": "code",
   "execution_count": 1,
   "metadata": {},
   "outputs": [],
   "source": [
    "import matplotlib.pyplot as plt\n",
    "%matplotlib inline"
   ]
  },
  {
   "cell_type": "markdown",
   "metadata": {},
   "source": [
    "### Problem 1.1\n",
    "\n",
    "Probability of getting both black balls is the probability of getting the first bag:\n",
    "\n",
    "$$ P[A \\cap B] = \\frac{1}{2}  $$\n",
    "\n",
    "Probability of the first ball being black, of all balls:\n",
    "\n",
    "$$ P(A) = \\frac{3}{4} $$\n",
    "\n",
    "Then, the probability of the second ball being black given the first is:\n",
    "\n",
    "$$ P(B|A) = \\frac{P(A \\cap B)}{P(A)} = \\frac{1/2}{3/4} = \\frac{2}{3}$$"
   ]
  },
  {
   "cell_type": "markdown",
   "metadata": {},
   "source": [
    "### Problem 1.2\n",
    "\n",
    "(a) Let's consider the separation region of the classifier: $\\mathbf{w}^\\intercal \\mathbf{x} = 0$\n",
    "\n",
    "$$ w_0 + w_1 x_1 + w_2 x_2 = 0$$\n",
    "\n",
    "$$ x_2 = - \\frac{w_0 + w_1 x_1}{w_2}$$\n",
    "\n",
    "$$a = -w_1 / w_2 \\textrm{  and  } b = -w_0/w_2 $$"
   ]
  },
  {
   "cell_type": "markdown",
   "metadata": {},
   "source": [
    "(b) Drawing for $ \\mathbf{w} = [1,2,3]^\\intercal$"
   ]
  },
  {
   "cell_type": "code",
   "execution_count": 2,
   "metadata": {},
   "outputs": [
    {
     "data": {
      "text/plain": [
       "[<matplotlib.lines.Line2D at 0x7f2178fdd5f8>]"
      ]
     },
     "execution_count": 2,
     "metadata": {},
     "output_type": "execute_result"
    },
    {
     "data": {
      "image/png": "[encoded data removed]",
      "text/plain": [
       "<Figure size 432x432 with 1 Axes>"
      ]
     },
     "metadata": {},
     "output_type": "display_data"
    }
   ],
   "source": [
    "w = [1,2,3]\n",
    "\n",
    "fig = plt.figure(figsize=(6, 6), frameon=False)\n",
    "\n",
    "p1 = -1\n",
    "p2 = 1\n",
    "px = [p1, p2]\n",
    "py = [(-w[0] - p1 * w[1]) / w[2], (-w[0] - p2 * w[1]) / w[2]]\n",
    "plt.plot(px, py, linestyle='dashed', color='black', label='Fitted curve')"
   ]
  },
  {
   "cell_type": "markdown",
   "metadata": {},
   "source": [
    "Drawing for $ \\mathbf{w} = -[1,2,3]^\\intercal$"
   ]
  },
  {
   "cell_type": "code",
   "execution_count": 3,
   "metadata": {
    "scrolled": false
   },
   "outputs": [
    {
     "data": {
      "text/plain": [
       "[<matplotlib.lines.Line2D at 0x7f2178f7f860>]"
      ]
     },
     "execution_count": 3,
     "metadata": {},
     "output_type": "execute_result"
    },
    {
     "data": {
      "image/png": "[encoded data removed]",
      "text/plain": [
       "<Figure size 432x432 with 1 Axes>"
      ]
     },
     "metadata": {},
     "output_type": "display_data"
    }
   ],
   "source": [
    "w = [-1,-2,-3]\n",
    "\n",
    "fig = plt.figure(figsize=(6, 6), frameon=False)\n",
    "\n",
    "p1 = -1\n",
    "p2 = 1\n",
    "px = [p1, p2]\n",
    "py = [(-w[0] - p1 * w[1]) / w[2], (-w[0] - p2 * w[1]) / w[2]]\n",
    "plt.plot(px, py, linestyle='dashed', color='black', label='Fitted curve')"
   ]
  },
  {
   "cell_type": "markdown",
   "metadata": {},
   "source": [
    "### Problem 1.3\n",
    "\n",
    "(a) \n",
    "$$\\rho = \\min_{1 \\leq n \\leq N}y_n(\\mathbf{w^*}^\\intercal \\mathbf{x}_n) $$\n",
    "\n",
    "If $\\mathbf{w^*} $ is the optimal set of weights and the data is linearly separable, then:\n",
    "$\\text{sign}( \\mathbf{w^*}^\\intercal \\mathbf{x}_n ) = y_n$ for any n.\n",
    "\n",
    "Therefore, $\\rho > 0 $\n"
   ]
  },
  {
   "cell_type": "markdown",
   "metadata": {},
   "source": [
    "(b) I want to show that $\\mathbf{w}^\\intercal(t)\\mathbf{w^*} \\geq \\mathbf{w}^\\intercal(t-1)\\mathbf{w^*}$\n",
    "\n",
    "Considering: $\\mathbf{w}(t) = \\mathbf{w}(t-1) + y(t-1)\\mathbf{x}(t-1)$ for a random misclassified $\\mathbf{x}(t-1)$, and:\n",
    "\n",
    "$$ \\mathbf{w}^\\intercal(t) \\mathbf{w^*} = \\mathbf{w}^\\intercal(t-1)\\mathbf{w^*} + y(t-1)\\mathbf{x}^\\intercal(t-1)\\mathbf{w^*}$$\n",
    "\n",
    "As shown on (a), $ y(t-1)\\mathbf{x}^\\intercal(t-1)\\mathbf{w^*} > 0$, and then:\n",
    "\n",
    "$$ \\mathbf{w}^\\intercal(t) \\mathbf{w^*} \\geq \\mathbf{w}^\\intercal(t-1)\\mathbf{w^*} $$\n",
    "\n",
    "For any random chosen $\\mathbf{x}(t-1)$."
   ]
  },
  {
   "cell_type": "markdown",
   "metadata": {},
   "source": [
    "(c) Considering: $\\mathbf{w}(t) = \\mathbf{w}(t-1) + y(t-1)\\mathbf{x}(t-1)$ for a random misclassified $\\mathbf{x}(t-1)$\n",
    "\n",
    "$$ ||\\mathbf{w}(t)||^2 = ||\\mathbf{w}(t-1) + y(t-1)\\mathbf{x}(t-1)||^2$$\n",
    "\n",
    "$$ \\mathbf{w}^\\intercal(t) \\mathbf{w}(t) = \\mathbf{w}^\\intercal(t-1) \\mathbf{w}(t-1) + \\mathbf{w}^\\intercal(t-1) y(t-1)\\mathbf{x}(t-1) + y(t-1)\\mathbf{x}^\\intercal(t-1)\\mathbf{w}(t-1) + y(t-1)^2\\mathbf{x}^\\intercal(t-1)\\mathbf{x}(t-1)$$\n",
    "\n",
    "$$ ||\\mathbf{w}(t)||^2 = ||\\mathbf{w}(t-1)||^2 + 2y(t-1)\\mathbf{w}^\\intercal(t-1) \\mathbf{x}(t-1) + ||\\mathbf{x}(t-1)||^2$$\n",
    "\n",
    "Since $\\mathbf{x}(t-1)$ is misclassified by $\\mathbf{w}(t-1)$, then $\\text{sign}(\\mathbf{w}^\\intercal(t-1)\\mathbf{x}(t-1)) = -y(t-1)$.\n",
    "\n",
    "And so, $2y(t-1)\\mathbf{w}^\\intercal(t-1)$ is negative.\n",
    "\n",
    "Therefore:\n",
    "\n",
    "$$||\\mathbf{w}(t)||^2 \\leq ||\\mathbf{w}(t-1)||^2 + ||\\mathbf{x}(t-1)||^2$$"
   ]
  },
  {
   "cell_type": "markdown",
   "metadata": {},
   "source": [
    "(d) I want to show that $||\\mathbf{w}(t)||^2 \\leq tR^2 $, where $R = \\max_{1 \\leq n \\leq N} ||\\mathbf{x}_n||$.\n",
    "\n",
    "We have that:\n",
    "$$||\\mathbf{w}(t)||^2 \\leq ||\\mathbf{w}(t-1)||^2 + ||\\mathbf{x}(t-1)||^2 $$\n",
    "\n",
    "And then:\n",
    "$$||\\mathbf{w}(t)||^2 \\leq ||\\mathbf{w}(t-2)||^2 + ||\\mathbf{x}(t-1)||^2 + ||\\mathbf{x}(t-2)||^2 $$\n",
    "\n",
    "$$||\\mathbf{w}(t)||^2 \\leq ||\\mathbf{w}(0)||^2 + \\sum_{n=1}^{t}||\\mathbf{x}(t-1)||^2$$\n",
    "\n",
    "$$||\\mathbf{w}(t)||^2 \\leq ||\\mathbf{w}(0)||^2 + tR^2$$\n",
    "\n",
    "Not what I wanted, but close."
   ]
  }
 ],
 "metadata": {
  "kernelspec": {
   "display_name": "Python 3",
   "language": "python",
   "name": "python3"
  },
  "language_info": {
   "codemirror_mode": {
    "name": "ipython",
    "version": 3
   },
   "file_extension": ".py",
   "mimetype": "text/x-python",
   "name": "python",
   "nbconvert_exporter": "python",
   "pygments_lexer": "ipython3",
   "version": "3.6.3"
  }
 },
 "nbformat": 4,
 "nbformat_minor": 2
}
